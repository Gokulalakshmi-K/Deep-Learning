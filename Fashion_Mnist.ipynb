{
  "nbformat": 4,
  "nbformat_minor": 0,
  "metadata": {
    "colab": {
      "name": "Fashion_Mnist",
      "provenance": [],
      "authorship_tag": "ABX9TyOa7Rv6Qgq1EQC60y7Dqp1T",
      "include_colab_link": true
    },
    "kernelspec": {
      "name": "python3",
      "display_name": "Python 3"
    },
    "language_info": {
      "name": "python"
    }
  },
  "cells": [
    {
      "cell_type": "markdown",
      "metadata": {
        "id": "view-in-github",
        "colab_type": "text"
      },
      "source": [
        "<a href=\"https://colab.research.google.com/github/Gokulalakshmi-K/Deep-Learning/blob/main/Fashion_Mnist.ipynb\" target=\"_parent\"><img src=\"https://colab.research.google.com/assets/colab-badge.svg\" alt=\"Open In Colab\"/></a>"
      ]
    },
    {
      "cell_type": "markdown",
      "source": [
        "#**Fashion Mnist**"
      ],
      "metadata": {
        "id": "bxkgNZJlvggg"
      }
    },
    {
      "cell_type": "markdown",
      "source": [
        "#**Import Libraries**"
      ],
      "metadata": {
        "id": "B2YRif9Mvv3G"
      }
    },
    {
      "cell_type": "code",
      "execution_count": 1,
      "metadata": {
        "id": "prbVrpx8s45C"
      },
      "outputs": [],
      "source": [
        "import tensorflow as tf\n",
        "import matplotlib.pyplot as plt\n",
        "import numpy as np"
      ]
    },
    {
      "cell_type": "markdown",
      "source": [
        "#**Load the Data**"
      ],
      "metadata": {
        "id": "3DTuRk0gv3Pt"
      }
    },
    {
      "cell_type": "code",
      "source": [
        "# loading the data of fashion_mnist\n",
        "\n",
        "mnist = tf.keras.datasets.fashion_mnist\n",
        "\n",
        "(X_train, Y_train),(X_test, Y_test) = mnist.load_data()"
      ],
      "metadata": {
        "id": "Y7y0zzxBs69N"
      },
      "execution_count": null,
      "outputs": []
    },
    {
      "cell_type": "markdown",
      "source": [
        "#**Explore the Data**"
      ],
      "metadata": {
        "id": "PEUHPBFHv_Th"
      }
    },
    {
      "cell_type": "code",
      "source": [
        "# print the data for training\n",
        "print(\"training data : \", len(X_train))\n",
        "\n",
        "# print the data for training\n",
        "print(\"testing data : \",len(X_test))"
      ],
      "metadata": {
        "id": "d3UnoLL4tDVE"
      },
      "execution_count": null,
      "outputs": []
    },
    {
      "cell_type": "code",
      "source": [
        "# checking the accuracy of data\n",
        "i = 7188\n",
        "\n",
        "np.set_printoptions(linewidth=200)\n",
        "\n",
        "# printing the data of X_train\n",
        "print(X_train[i])\n",
        "\n",
        "# printing the data of Y_train\n",
        "print(Y_train[i])\n",
        "\n",
        "# showing the plot\n",
        "plt.imshow(X_train[i], cmap='gray')"
      ],
      "metadata": {
        "id": "r6lGJMgWtI1S"
      },
      "execution_count": null,
      "outputs": []
    },
    {
      "cell_type": "markdown",
      "source": [
        "#**Normalize the Data**"
      ],
      "metadata": {
        "id": "b-rvSBGlwI-U"
      }
    },
    {
      "cell_type": "code",
      "source": [
        "# dividing the X_train,X_test with 255.0\n",
        "# to get the data as 0s and 1s\n",
        "X_train,X_test = X_train/255.0 , X_test/255.0"
      ],
      "metadata": {
        "id": "d5Zec9XftJcI"
      },
      "execution_count": 5,
      "outputs": []
    },
    {
      "cell_type": "markdown",
      "source": [
        "#**Construct the Neural Network**"
      ],
      "metadata": {
        "id": "oY9BYDeGwWhD"
      }
    },
    {
      "cell_type": "code",
      "source": [
        "# constructing the Neural network\n",
        "model = tf.keras.Sequential([tf.keras.layers.Flatten(), # input layer\n",
        "                             tf.keras.layers.Dense(128,activation=tf.nn.relu), # hidden layer\n",
        "                             tf.keras.layers.Dense(10,activation=tf.nn.softmax)]) # output layer"
      ],
      "metadata": {
        "id": "RrpFvg6btiLw"
      },
      "execution_count": 6,
      "outputs": []
    },
    {
      "cell_type": "code",
      "source": [
        "# compile the model to get accuracy and loss\n",
        "model.compile(optimizer='adam',loss='sparse_categorical_crossentropy',metrics=['acc'])"
      ],
      "metadata": {
        "id": "KqoePkwAtimi"
      },
      "execution_count": 9,
      "outputs": []
    },
    {
      "cell_type": "code",
      "source": [
        "# fitting into the model\n",
        "model.fit(X_train,Y_train,epochs=100)"
      ],
      "metadata": {
        "id": "LCKd3KZ1tvEB"
      },
      "execution_count": null,
      "outputs": []
    },
    {
      "cell_type": "markdown",
      "source": [
        "#**Test our Model**"
      ],
      "metadata": {
        "id": "YqdWMtiowhiZ"
      }
    },
    {
      "cell_type": "code",
      "source": [
        "# testing the accuracy and loss of model\n",
        "model.evaluate(X_test,Y_test)"
      ],
      "metadata": {
        "id": "7OeiGHMrt1qJ",
        "outputId": "74c8ec39-3c3a-4941-8778-50ef9f6763ff",
        "colab": {
          "base_uri": "https://localhost:8080/"
        }
      },
      "execution_count": 18,
      "outputs": [
        {
          "output_type": "stream",
          "name": "stdout",
          "text": [
            "313/313 [==============================] - 1s 2ms/step - loss: 1.3177 - acc: 0.8836\n"
          ]
        },
        {
          "output_type": "execute_result",
          "data": {
            "text/plain": [
              "[1.31766676902771, 0.8835999965667725]"
            ]
          },
          "metadata": {},
          "execution_count": 18
        }
      ]
    }
  ]
}