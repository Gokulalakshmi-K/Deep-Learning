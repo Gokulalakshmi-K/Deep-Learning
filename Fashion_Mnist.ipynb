{
  "nbformat": 4,
  "nbformat_minor": 0,
  "metadata": {
    "colab": {
      "name": "Fashion_Mnist",
      "provenance": [],
      "authorship_tag": "ABX9TyMfVMMVD9XsdGSJ59z2rMZC",
      "include_colab_link": true
    },
    "kernelspec": {
      "name": "python3",
      "display_name": "Python 3"
    },
    "language_info": {
      "name": "python"
    }
  },
  "cells": [
    {
      "cell_type": "markdown",
      "metadata": {
        "id": "view-in-github",
        "colab_type": "text"
      },
      "source": [
        "<a href=\"https://colab.research.google.com/github/Gokulalakshmi-K/Deep-Learning/blob/main/Fashion_Mnist.ipynb\" target=\"_parent\"><img src=\"https://colab.research.google.com/assets/colab-badge.svg\" alt=\"Open In Colab\"/></a>"
      ]
    },
    {
      "cell_type": "markdown",
      "source": [
        "#**Fashion Mnist**"
      ],
      "metadata": {
        "id": "bxkgNZJlvggg"
      }
    },
    {
      "cell_type": "markdown",
      "source": [
        "#**Import Libraries**"
      ],
      "metadata": {
        "id": "B2YRif9Mvv3G"
      }
    },
    {
      "cell_type": "code",
      "execution_count": 12,
      "metadata": {
        "id": "prbVrpx8s45C"
      },
      "outputs": [],
      "source": [
        "import tensorflow as tf\n",
        "import matplotlib.pyplot as plt\n",
        "import numpy as np"
      ]
    },
    {
      "cell_type": "markdown",
      "source": [
        "#**Load the Data**"
      ],
      "metadata": {
        "id": "3DTuRk0gv3Pt"
      }
    },
    {
      "cell_type": "code",
      "source": [
        "mnist = tf.keras.datasets.fashion_mnist\n",
        "\n",
        "(X_train, Y_train),(X_test, Y_test) = mnist.load_data()"
      ],
      "metadata": {
        "id": "Y7y0zzxBs69N"
      },
      "execution_count": 13,
      "outputs": []
    },
    {
      "cell_type": "markdown",
      "source": [
        "#**Explore the Data**"
      ],
      "metadata": {
        "id": "PEUHPBFHv_Th"
      }
    },
    {
      "cell_type": "code",
      "source": [
        "print(\"training data : \", len(X_train))\n",
        "print(\"testing data : \",len(X_test))"
      ],
      "metadata": {
        "id": "d3UnoLL4tDVE"
      },
      "execution_count": null,
      "outputs": []
    },
    {
      "cell_type": "code",
      "source": [
        "i = 7188\n",
        "\n",
        "np.set_printoptions(linewidth=200)\n",
        "print(X_train[i])\n",
        "print(Y_train[i])\n",
        "\n",
        "plt.imshow(X_train[i], cmap='gray')"
      ],
      "metadata": {
        "id": "r6lGJMgWtI1S"
      },
      "execution_count": null,
      "outputs": []
    },
    {
      "cell_type": "markdown",
      "source": [
        "#**Normalize the Data**"
      ],
      "metadata": {
        "id": "b-rvSBGlwI-U"
      }
    },
    {
      "cell_type": "code",
      "source": [
        "X_train,X_test = X_train/255.0 , X_test/255.0"
      ],
      "metadata": {
        "id": "d5Zec9XftJcI"
      },
      "execution_count": 16,
      "outputs": []
    },
    {
      "cell_type": "markdown",
      "source": [
        "#**Construct the Neural Network**"
      ],
      "metadata": {
        "id": "oY9BYDeGwWhD"
      }
    },
    {
      "cell_type": "code",
      "source": [
        "model = tf.keras.Sequential([tf.keras.layers.Flatten(),\n",
        "                             tf.keras.layers.Dense(128,activation=tf.nn.relu),\n",
        "                             tf.keras.layers.Dense(10,activation=tf.nn.softmax)])"
      ],
      "metadata": {
        "id": "RrpFvg6btiLw"
      },
      "execution_count": 17,
      "outputs": []
    },
    {
      "cell_type": "code",
      "source": [
        "model.compile(optimizer='adam',loss='sparse_categorical_crossentropy',metrics=['acc'])"
      ],
      "metadata": {
        "id": "KqoePkwAtimi"
      },
      "execution_count": 18,
      "outputs": []
    },
    {
      "cell_type": "code",
      "source": [
        "model.fit(X_train,Y_train,epochs=10)"
      ],
      "metadata": {
        "id": "LCKd3KZ1tvEB"
      },
      "execution_count": null,
      "outputs": []
    },
    {
      "cell_type": "markdown",
      "source": [
        "#**Test our Model**"
      ],
      "metadata": {
        "id": "YqdWMtiowhiZ"
      }
    },
    {
      "cell_type": "code",
      "source": [
        "model.evaluate(X_test,Y_test)"
      ],
      "metadata": {
        "id": "7OeiGHMrt1qJ"
      },
      "execution_count": null,
      "outputs": []
    }
  ]
}